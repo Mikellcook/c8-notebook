{
 "cells": [
  {
   "cell_type": "markdown",
   "metadata": {},
   "source": [
    "# Operators"
   ]
  },
  {
   "cell_type": "markdown",
   "metadata": {},
   "source": [
    "#### Unary Operators"
   ]
  },
  {
   "cell_type": "markdown",
   "metadata": {},
   "source": [
    "Postfix operator increments the value after the assignment."
   ]
  },
  {
   "cell_type": "code",
   "execution_count": 1,
   "metadata": {},
   "outputs": [
    {
     "name": "stdout",
     "output_type": "stream",
     "text": [
      "a is 4, b is 3.\n"
     ]
    }
   ],
   "source": [
    "int a = 3;\n",
    "int b = a++;\n",
    "Console.WriteLine($\"a is {a}, b is {b}.\");"
   ]
  },
  {
   "cell_type": "markdown",
   "metadata": {},
   "source": [
    "Prefix operator increments or decreases before the assignment."
   ]
  },
  {
   "cell_type": "code",
   "execution_count": 13,
   "metadata": {},
   "outputs": [
    {
     "name": "stdout",
     "output_type": "stream",
     "text": [
      "c is 4, d is 4.\n"
     ]
    }
   ],
   "source": [
    "int c = 3;\n",
    "int d = ++c;\n",
    "Console.WriteLine($\"c is {c}, d is {d}.\");"
   ]
  },
  {
   "cell_type": "markdown",
   "metadata": {},
   "source": [
    "To avoid confusion, its better to increment or decrease seperatly instead of at assignment."
   ]
  },
  {
   "cell_type": "markdown",
   "metadata": {},
   "source": [
    "#### Common Operators"
   ]
  },
  {
   "cell_type": "code",
   "execution_count": 5,
   "metadata": {},
   "outputs": [
    {
     "name": "stdout",
     "output_type": "stream",
     "text": [
      "e is 11, f is 3\n"
     ]
    }
   ],
   "source": [
    "int e = 11;\n",
    "int f = 3;\n",
    "Console.WriteLine($\"e is {e}, f is {f}\");"
   ]
  },
  {
   "cell_type": "markdown",
   "metadata": {},
   "source": [
    "Addition, subtraction, division and multiplication."
   ]
  },
  {
   "cell_type": "code",
   "execution_count": 6,
   "metadata": {},
   "outputs": [
    {
     "name": "stdout",
     "output_type": "stream",
     "text": [
      "e + f = 14\n",
      "e + f = 8\n",
      "e + f = 33\n",
      "e + f = 3\n"
     ]
    }
   ],
   "source": [
    "Console.WriteLine($\"e + f = {e + f}\");\n",
    "Console.WriteLine($\"e + f = {e - f}\");\n",
    "Console.WriteLine($\"e + f = {e * f}\");\n",
    "Console.WriteLine($\"e + f = {e / f}\");"
   ]
  },
  {
   "cell_type": "markdown",
   "metadata": {},
   "source": [
    "Modulo is the remainder after dividing."
   ]
  },
  {
   "cell_type": "code",
   "execution_count": 7,
   "metadata": {},
   "outputs": [
    {
     "name": "stdout",
     "output_type": "stream",
     "text": [
      "e + f = 2\n"
     ]
    }
   ],
   "source": [
    "Console.WriteLine($\"e + f = {e % f}\");"
   ]
  },
  {
   "cell_type": "markdown",
   "metadata": {},
   "source": [
    "If the first operand is a floating point number, then the divide operator returns a floating point number."
   ]
  },
  {
   "cell_type": "code",
   "execution_count": 8,
   "metadata": {},
   "outputs": [
    {
     "name": "stdout",
     "output_type": "stream",
     "text": [
      "g is 11.0, f is 3\n",
      "g / f = 3.6666666666666665\n"
     ]
    }
   ],
   "source": [
    "double g = 11.0;\n",
    "Console.WriteLine($\"g is {g:N1}, f is {f}\");\n",
    "Console.WriteLine($\"g / f = {g / f}\");"
   ]
  },
  {
   "cell_type": "markdown",
   "metadata": {},
   "source": [
    "#### Assignment Operators"
   ]
  },
  {
   "cell_type": "markdown",
   "metadata": {},
   "source": [
    "Assignment operators can be used to make the code more concise."
   ]
  },
  {
   "cell_type": "code",
   "execution_count": 12,
   "metadata": {},
   "outputs": [],
   "source": [
    "int p = 6;\n",
    "p += 3; // equivalent to p = p + 3\n",
    "p -= 3; // equivalent to p = p - 3\n",
    "p *= 3; // equivalent to p = p * 3\n",
    "p /= 3; // equivalent to p = p / 3"
   ]
  }
 ],
 "metadata": {
  "kernelspec": {
   "display_name": ".NET (C#)",
   "language": "C#",
   "name": ".net-csharp"
  },
  "language_info": {
   "file_extension": ".cs",
   "mimetype": "text/x-csharp",
   "name": "C#",
   "pygments_lexer": "csharp",
   "version": "8.0"
  }
 },
 "nbformat": 4,
 "nbformat_minor": 4
}
