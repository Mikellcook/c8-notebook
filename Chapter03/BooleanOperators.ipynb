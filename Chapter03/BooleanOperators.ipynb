{
 "cells": [
  {
   "cell_type": "markdown",
   "metadata": {},
   "source": [
    "# Logical Operators"
   ]
  },
  {
   "cell_type": "markdown",
   "metadata": {},
   "source": [
    "Logical operators operate on Boolean values, so they return either `true` or `false`."
   ]
  },
  {
   "cell_type": "markdown",
   "metadata": {},
   "source": [
    "#### Truth Table"
   ]
  },
  {
   "cell_type": "code",
   "execution_count": 1,
   "metadata": {},
   "outputs": [
    {
     "name": "stdout",
     "output_type": "stream",
     "text": [
      "AND   | a     | b     \n",
      "a     | True  | False \n",
      "b     | False | False \n",
      "\n",
      "OR    | a     | b     \n",
      "a     | True  | True  \n",
      "b     | True  | False \n",
      "XOR   | a     | b     \n",
      "a     | False | True  \n",
      "b     | True  | False \n"
     ]
    }
   ],
   "source": [
    "using static System.Console;\n",
    "\n",
    "bool a = true;\n",
    "bool b = false;\n",
    "\n",
    "\n",
    "      \n",
    " "
   ]
  },
  {
   "cell_type": "markdown",
   "metadata": {},
   "source": [
    "For the `AND &` logical operatior, both operands must be `true` for the result to be `true`."
   ]
  },
  {
   "cell_type": "code",
   "execution_count": 2,
   "metadata": {},
   "outputs": [
    {
     "name": "stdout",
     "output_type": "stream",
     "text": [
      "AND   | a     | b     \n",
      "a     | True  | False \n",
      "b     | False | False \n",
      "\n"
     ]
    }
   ],
   "source": [
    "WriteLine($\"AND   | a     | b     \");\n",
    "WriteLine($\"a     | {a & a, -5} | {a & b, -5} \");\n",
    "WriteLine($\"b     | {b & a, -5} | {b & b, -5} \");"
   ]
  },
  {
   "cell_type": "markdown",
   "metadata": {},
   "source": [
    "For the `OR |` logical operator, either operand can be `true` for the result to be `true`."
   ]
  },
  {
   "cell_type": "code",
   "execution_count": 3,
   "metadata": {},
   "outputs": [
    {
     "name": "stdout",
     "output_type": "stream",
     "text": [
      "OR    | a     | b     \n",
      "a     | True  | True  \n",
      "b     | True  | False \n"
     ]
    }
   ],
   "source": [
    "WriteLine($\"OR    | a     | b     \");\n",
    "WriteLine($\"a     | {a | a, -5} | {a | b, -5} \");\n",
    "WriteLine($\"b     | {b | a, -5} | {b | b, -5} \"); "
   ]
  },
  {
   "cell_type": "markdown",
   "metadata": {},
   "source": [
    "For the `XOR ^` logical operatopr, either operand can be `true` (but not both!) for the result to be `true`."
   ]
  },
  {
   "cell_type": "code",
   "execution_count": null,
   "metadata": {},
   "outputs": [],
   "source": [
    "WriteLine($\"XOR   | a     | b     \");\n",
    "WriteLine($\"a     | {a ^ a, -5} | {a ^ b, -5} \");\n",
    "WriteLine($\"b     | {b ^ a, -5} | {b ^ b, -5} \"); "
   ]
  }
 ],
 "metadata": {
  "kernelspec": {
   "display_name": ".NET (C#)",
   "language": "C#",
   "name": ".net-csharp"
  },
  "language_info": {
   "file_extension": ".cs",
   "mimetype": "text/x-csharp",
   "name": "C#",
   "pygments_lexer": "csharp",
   "version": "8.0"
  }
 },
 "nbformat": 4,
 "nbformat_minor": 4
}
