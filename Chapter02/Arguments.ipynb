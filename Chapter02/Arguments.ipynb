{
 "cells": [
  {
   "cell_type": "markdown",
   "metadata": {},
   "source": [
    "# Arguments"
   ]
  },
  {
   "cell_type": "markdown",
   "metadata": {},
   "source": [
    "Arguments can be provided on the command line by running `dotnet run arg1 arg2 arg3`. "
   ]
  },
  {
   "cell_type": "markdown",
   "metadata": {},
   "source": [
    "The code block below, checks that there are 4 arguments and uses the arguments to set the `ForegroundColor`, `BackgroundColor`, `WindowHeight` and `WindowWidth`. "
   ]
  },
  {
   "cell_type": "code",
   "execution_count": 3,
   "metadata": {},
   "outputs": [],
   "source": [
    "using static System.Console;\n",
    "\n",
    "static void Main(string[] args)\n",
    "{\n",
    "    WriteLine($\"There are {args.Length} arguments.\");\n",
    "\n",
    "    foreach (string arg in args) \n",
    "    {\n",
    "        WriteLine(arg);\n",
    "    }\n",
    "\n",
    "    if (args.Length < 4)\n",
    "    {\n",
    "        WriteLine(\"You must specify two colours and dimensions, e.g.\");\n",
    "        WriteLine(\"dotnet run red yellow 80 40\");\n",
    "    }\n",
    "\n",
    "    ForegroundColor = (ConsoleColor)Enum.Parse(\n",
    "        enumType: typeof(ConsoleColor),\n",
    "        value: args[0],\n",
    "        ignoreCase: true\n",
    "    );\n",
    "\n",
    "    BackgroundColor = (ConsoleColor)Enum.Parse(\n",
    "        enumType: typeof(ConsoleColor),\n",
    "        value: args[1],\n",
    "        ignoreCase: true\n",
    "    );\n",
    "    try {\n",
    "        WindowHeight = int.Parse(args[2]);\n",
    "        WindowWidth = int.Parse(args[3]);\n",
    "    }\n",
    "    catch (PlatformNotSupportedException) {\n",
    "        WriteLine(\"The current platform does not support changing the size of a console window.\");\n",
    "    }\n",
    "    catch (ArgumentOutOfRangeException) {\n",
    "        WriteLine(\"Width or Height is not above 0\");\n",
    "    }\n",
    "}"
   ]
  },
  {
   "cell_type": "markdown",
   "metadata": {},
   "source": [
    "Not all platforms support the changing the height of the console window, so an exception is thrown. Another to note is the `enumType` which parses the `arg` and checks that it is in the `Enum` for `ConsoleColor`."
   ]
  }
 ],
 "metadata": {
  "kernelspec": {
   "display_name": ".NET (C#)",
   "language": "C#",
   "name": ".net-csharp"
  },
  "language_info": {
   "file_extension": ".cs",
   "mimetype": "text/x-csharp",
   "name": "C#",
   "pygments_lexer": "csharp",
   "version": "8.0"
  }
 },
 "nbformat": 4,
 "nbformat_minor": 4
}
