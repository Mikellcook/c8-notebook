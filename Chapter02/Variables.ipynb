{
 "cells": [
  {
   "cell_type": "markdown",
   "metadata": {},
   "source": [
    "# Variables"
   ]
  },
  {
   "cell_type": "markdown",
   "metadata": {},
   "source": [
    "Variables can be stored in their base class, object."
   ]
  },
  {
   "cell_type": "code",
   "execution_count": 2,
   "metadata": {},
   "outputs": [
    {
     "name": "stdout",
     "output_type": "stream",
     "text": [
      "Amir is 1.88 meteres tall\n"
     ]
    }
   ],
   "source": [
    "object height = 1.88; // storing a double in an object\n",
    "object name = \"Amir\"; // storing a string in an object\n",
    "\n",
    "Console.WriteLine($\"{name} is {height} meteres tall\");"
   ]
  },
  {
   "cell_type": "markdown",
   "metadata": {},
   "source": [
    "This can be explicitly casted to the relevant type by specifying the target type in brackets, for instance `(string)` will explicitly cast to a string type. "
   ]
  },
  {
   "cell_type": "code",
   "execution_count": 3,
   "metadata": {},
   "outputs": [
    {
     "name": "stdout",
     "output_type": "stream",
     "text": [
      "Amir has 4 characters\n"
     ]
    }
   ],
   "source": [
    "int length2 = ((string)name).Length;\n",
    "\n",
    "Console.WriteLine($\"{name} has {length2} characters\");"
   ]
  },
  {
   "cell_type": "markdown",
   "metadata": {},
   "source": [
    "`dynamic` type can also be used allowing anything type to be stored in it. This comes at a price since the compile needs to identify the assigned type at run time. "
   ]
  },
  {
   "cell_type": "code",
   "execution_count": 4,
   "metadata": {},
   "outputs": [],
   "source": [
    "dynamic anotherName = \"Ahmed\";"
   ]
  },
  {
   "cell_type": "markdown",
   "metadata": {},
   "source": [
    "If you later store a data type that does not have a property named Length, this will throw a run-time exception."
   ]
  },
  {
   "cell_type": "code",
   "execution_count": 5,
   "metadata": {},
   "outputs": [],
   "source": [
    "int length = anotherName.Length;"
   ]
  }
 ],
 "metadata": {
  "kernelspec": {
   "display_name": ".NET (C#)",
   "language": "C#",
   "name": ".net-csharp"
  },
  "language_info": {
   "file_extension": ".cs",
   "mimetype": "text/x-csharp",
   "name": "C#",
   "pygments_lexer": "csharp",
   "version": "8.0"
  }
 },
 "nbformat": 4,
 "nbformat_minor": 4
}
