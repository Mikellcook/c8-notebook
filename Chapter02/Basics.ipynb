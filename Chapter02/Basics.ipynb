{
 "cells": [
  {
   "cell_type": "markdown",
   "metadata": {},
   "source": [
    "# Basics"
   ]
  },
  {
   "cell_type": "markdown",
   "metadata": {},
   "source": [
    "The code below runs through the loaded Assemblies, identifies how many **Types** and how many **Methods** each assemblies has. Any additional assemblies will be counted. When the below is ran, it also loads the dotnet Interactive assemblies.\n",
    "\n"
   ]
  },
  {
   "cell_type": "code",
   "execution_count": 21,
   "metadata": {},
   "outputs": [
    {
     "name": "stdout",
     "output_type": "stream",
     "text": [
      "30 types with 325 methods in System.Runtime assembly.\n",
      "0 types with 0 methods in System.Resources.ResourceManager assembly.\n",
      "239 types with 1,565 methods in Microsoft.DotNet.Interactive assembly.\n",
      "59 types with 627 methods in System.IO.FileSystem assembly.\n",
      "278 types with 1,821 methods in System.CommandLine assembly.\n",
      "0 types with 0 methods in System.Threading.Tasks assembly.\n",
      "0 types with 0 methods in System.Diagnostics.Debug assembly.\n",
      "169 types with 944 methods in Microsoft.DotNet.Interactive.Formatting assembly.\n",
      "698 types with 8,357 methods in System.Linq.Expressions assembly.\n",
      "53 types with 642 methods in System.Runtime.Extensions assembly.\n",
      "116 types with 3,840 methods in XPlot.Plotly assembly.\n",
      "66 types with 484 methods in Microsoft.Extensions.DependencyInjection assembly.\n",
      "120 types with 972 methods in Serilog assembly.\n",
      "17 types with 89 methods in Microsoft.AspNetCore.Hosting.Abstractions assembly.\n",
      "20 types with 172 methods in Microsoft.Extensions.DependencyInjection.Abstractions assembly.\n",
      "11 types with 51 methods in Microsoft.Extensions.Configuration.Abstractions assembly.\n",
      "23 types with 125 methods in Microsoft.Extensions.Hosting.Abstractions assembly.\n",
      "91 types with 726 methods in Microsoft.AspNetCore.Http.Abstractions assembly.\n",
      "38 types with 188 methods in Microsoft.DotNet.Interactive.Telemetry assembly.\n",
      "123 types with 855 methods in Microsoft.DotNet.Interactive.Jupyter assembly.\n",
      "5 types with 13 methods in System.ComponentModel assembly.\n",
      "222 types with 1,270 methods in Clockwise assembly.\n",
      "1,481 types with 12,755 methods in System.Reactive assembly.\n",
      "55 types with 479 methods in System.Text.RegularExpressions assembly.\n",
      "69 types with 641 methods in System.Collections assembly.\n",
      "53 types with 458 methods in System.Collections.Concurrent assembly.\n",
      "34 types with 273 methods in System.Diagnostics.DiagnosticSource assembly.\n",
      "6 types with 44 methods in System.Diagnostics.Tools assembly.\n",
      "283 types with 2,363 methods in Microsoft.ApplicationInsights assembly.\n",
      "8 types with 57 methods in System.Runtime.InteropServices.RuntimeInformation assembly.\n",
      "11 types with 61 methods in Serilog.Sinks.RollingFileAlternate assembly.\n",
      "147 types with 910 methods in Microsoft.AspNetCore.Hosting assembly.\n",
      "5 types with 25 methods in Microsoft.AspNetCore.Server.Kestrel assembly.\n",
      "21 types with 151 methods in Microsoft.Extensions.Configuration assembly.\n",
      "5 types with 54 methods in Microsoft.Extensions.Configuration.FileExtensions assembly.\n",
      "34 types with 167 methods in Microsoft.DotNet.Interactive.CSharp assembly.\n",
      "68 types with 409 methods in Microsoft.DotNet.Interactive.FSharp assembly.\n",
      "18 types with 196 methods in System.Threading assembly.\n",
      "99 types with 1,068 methods in System.Linq assembly.\n",
      "6 types with 43 methods in System.IO.Compression.ZipFile assembly.\n",
      "241 types with 3,040 methods in Microsoft.CSharp assembly.\n",
      "2 types with 9 methods in XPlot.DotNet.Interactive.KernelExtensions assembly.\n",
      "56 types with 691 methods in System.Console assembly.\n"
     ]
    }
   ],
   "source": [
    "System.Data.DataSet ds;\n",
    "System.Net.Http.HttpClient client;\n",
    "\n",
    "foreach (var r in Assembly.GetEntryAssembly()\n",
    "    .GetReferencedAssemblies()) {\n",
    "\n",
    "    // load the assembly so we can read its details\n",
    "    var a = Assembly.Load(new AssemblyName(r.FullName));\n",
    "\n",
    "    // declare a variable to count the number of methods\n",
    "    int methodCount = 0;\n",
    "\n",
    "    // loop through all the types in the assembly\n",
    "    foreach (var t in a.DefinedTypes)\n",
    "    {\n",
    "        methodCount += t.GetMethods().Count();\n",
    "\n",
    "    }\n",
    "\n",
    "    // output the count of types and their methods\n",
    "    Console.WriteLine(\n",
    "        \"{0:N0} types with {1:N0} methods in {2} assembly.\",\n",
    "        arg0: a.DefinedTypes.Count(),\n",
    "        arg1: methodCount,\n",
    "        arg2: r.Name\n",
    "    );\n",
    "}"
   ]
  },
  {
   "cell_type": "markdown",
   "metadata": {},
   "source": [
    "Using var implicitly sets the type. Best uses in situations where it's obvious what the tpe is. For instance, it's obviouse that `heightInMeters` is a double. More information can be found at: https://docs.microsoft.com/en-us/dotnet/csharp/programming-guide/classes-and-structs/implicitly-typed-local-variables.\n"
   ]
  },
  {
   "cell_type": "code",
   "execution_count": 4,
   "metadata": {},
   "outputs": [
    {
     "name": "stdout",
     "output_type": "stream",
     "text": [
      "The variable heightInMeters has the value 1.88.\n"
     ]
    }
   ],
   "source": [
    "var heightInMeters = 1.88;\n",
    "Console.WriteLine($\"The variable {nameof(heightInMeters)} has the value {heightInMeters}.\");"
   ]
  },
  {
   "cell_type": "markdown",
   "metadata": {},
   "source": [
    "Using string interpolation with the `$` sign allows variables to be referenced or accessed using `{}`. More information can be found at: https://docs.microsoft.com/en-us/dotnet/csharp/language-reference/tokens/interpolated.\n",
    "\n",
    "`nameof` will provide the name of the variable being called."
   ]
  }
 ],
 "metadata": {
  "kernelspec": {
   "display_name": ".NET (C#)",
   "language": "C#",
   "name": ".net-csharp"
  },
  "language_info": {
   "file_extension": ".cs",
   "mimetype": "text/x-csharp",
   "name": "C#",
   "pygments_lexer": "csharp",
   "version": "8.0"
  }
 },
 "nbformat": 4,
 "nbformat_minor": 4
}
