{
 "cells": [
  {
   "cell_type": "markdown",
   "metadata": {},
   "source": [
    "# Nullable"
   ]
  },
  {
   "cell_type": "markdown",
   "metadata": {},
   "source": [
    "The nullable annotation context and nullable warning context can be set for a project using the Nullable element in your .csproj file. This element configures how the compiler interprets the nullability of types and what warnings are generated. "
   ]
  },
  {
   "cell_type": "raw",
   "metadata": {},
   "source": [
    "<Nullable>enable</Nullable>"
   ]
  },
  {
   "cell_type": "markdown",
   "metadata": {},
   "source": [
    "Valid settings are:\n",
    "\n",
    "**enable**: The nullable annotation context is enabled. The nullable warning context is enabled.\n",
    "Variables of a reference type, string for example, are non-nullable. All nullability warnings are enabled.\n",
    "\n",
    "**warnings**: The nullable annotation context is disabled. The nullable warning context is enabled.\n",
    "Variables of a reference type are oblivious. All nullability warnings are enabled.\n",
    "\n",
    "**annotations**: The nullable annotation context is enabled. The nullable warning context is disabled.\n",
    "Variables of a reference type, string for example, are non-nullable. All nullability warnings are disabled.\n",
    "\n",
    "**disable**: The nullable annotation context is disabled. The nullable warning context is disabled.\n",
    "Variables of a reference type are oblivious, just like earlier versions of C#. All nullability warnings are disabled."
   ]
  },
  {
   "cell_type": "markdown",
   "metadata": {},
   "source": [
    "You can also use directives to set these same contexts anywhere in your project:"
   ]
  },
  {
   "cell_type": "raw",
   "metadata": {},
   "source": [
    "#nullable enable: Sets the nullable annotation context and nullable warning context to enabled.\n",
    "#nullable disable: Sets the nullable annotation context and nullable warning context to disabled.\n",
    "#nullable restore: Restores the nullable annotation context and nullable warning context to the project settings.\n",
    "#nullable disable warnings: Set the nullable warning context to disabled.\n",
    "#nullable enable warnings: Set the nullable warning context to enabled.\n",
    "#nullable restore warnings: Restores the nullable warning context to the project settings.\n",
    "#nullable disable annotations: Set the nullable annotation context to disabled.\n",
    "#nullable enable annotations: Set the nullable annotation context to enabled.\n",
    "#nullable restore annotations: Restores the annotation warning context to the project settings."
   ]
  },
  {
   "cell_type": "markdown",
   "metadata": {},
   "source": [
    "A nullable reference type can be set as follows, suffixing the type with a `?`:"
   ]
  },
  {
   "cell_type": "code",
   "execution_count": 5,
   "metadata": {},
   "outputs": [
    {
     "name": "stdout",
     "output_type": "stream",
     "text": [
      "4 \n"
     ]
    }
   ],
   "source": [
    "int thisCannotBeNull = 4;\n",
    "int? thisCanBeNull = null;\n",
    "\n",
    "Console.WriteLine($\"{thisCannotBeNull} {thisCanBeNull}\");"
   ]
  },
  {
   "cell_type": "markdown",
   "metadata": {},
   "source": [
    "If a `null` is assigned to a non nullable variable, an exception will be thrown:"
   ]
  },
  {
   "cell_type": "code",
   "execution_count": 6,
   "metadata": {},
   "outputs": [
    {
     "ename": "Unhandled exception",
     "evalue": "(1,20): error CS0037: Cannot convert null to 'int' because it is a non-nullable value type",
     "output_type": "error",
     "traceback": [
      "(1,20): error CS0037: Cannot convert null to 'int' because it is a non-nullable value type"
     ]
    }
   ],
   "source": [
    "thisCannotBeNull = null; "
   ]
  },
  {
   "cell_type": "markdown",
   "metadata": {},
   "source": [
    "All types with the exception of `string` have a default value assigned if not nulled. Use `GetValueOrDefault()` to output the default value if the type is nulled."
   ]
  },
  {
   "cell_type": "code",
   "execution_count": 15,
   "metadata": {},
   "outputs": [
    {
     "name": "stdout",
     "output_type": "stream",
     "text": [
      "\n",
      "0\n"
     ]
    }
   ],
   "source": [
    "int? thisCouldBeNull = null;\n",
    "Console.WriteLine(thisCouldBeNull);\n",
    "Console.WriteLine(thisCouldBeNull.GetValueOrDefault());"
   ]
  },
  {
   "cell_type": "markdown",
   "metadata": {},
   "source": [
    "A default value can be specified on assignment using `??`."
   ]
  },
  {
   "cell_type": "code",
   "execution_count": 16,
   "metadata": {},
   "outputs": [
    {
     "name": "stdout",
     "output_type": "stream",
     "text": [
      "3\n"
     ]
    }
   ],
   "source": [
    "string authorName = null;\n",
    "int y = authorName?.Length ?? 3;\n",
    "Console.WriteLine(y);"
   ]
  },
  {
   "cell_type": "markdown",
   "metadata": {},
   "source": [
    "More information on Nullable References can be found at: https://docs.microsoft.com/en-us/dotnet/csharp/nullable-references."
   ]
  }
 ],
 "metadata": {
  "kernelspec": {
   "display_name": ".NET (C#)",
   "language": "C#",
   "name": ".net-csharp"
  },
  "language_info": {
   "file_extension": ".cs",
   "mimetype": "text/x-csharp",
   "name": "C#",
   "pygments_lexer": "csharp",
   "version": "8.0"
  }
 },
 "nbformat": 4,
 "nbformat_minor": 4
}
