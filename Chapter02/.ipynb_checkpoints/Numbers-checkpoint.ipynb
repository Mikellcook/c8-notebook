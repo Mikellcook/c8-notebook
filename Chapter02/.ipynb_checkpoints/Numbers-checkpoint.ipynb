{
 "cells": [
  {
   "cell_type": "markdown",
   "metadata": {},
   "source": [
    "# Numbers"
   ]
  },
  {
   "cell_type": "markdown",
   "metadata": {},
   "source": [
    "**Unsigned Interger** is a positive whole number. "
   ]
  },
  {
   "cell_type": "code",
   "execution_count": 24,
   "metadata": {},
   "outputs": [
    {
     "name": "stdout",
     "output_type": "stream",
     "text": [
      "Size Of: 4 byte(s)\n",
      "Min Value: 0\n",
      "Min Value: 4,294,967,295\n"
     ]
    }
   ],
   "source": [
    "uint naturalNumber = 23;\n",
    "Console.WriteLine($\"Size Of: {sizeof(uint)} byte(s)\");\n",
    "Console.WriteLine($\"Min Value: {uint.MinValue:N0}\");\n",
    "Console.WriteLine($\"Min Value: {uint.MaxValue:N0}\")"
   ]
  },
  {
   "cell_type": "markdown",
   "metadata": {},
   "source": [
    "**Interger** is a positive or negative whole number."
   ]
  },
  {
   "cell_type": "code",
   "execution_count": 23,
   "metadata": {},
   "outputs": [
    {
     "name": "stdout",
     "output_type": "stream",
     "text": [
      "Size Of: 4 byte(s)\n",
      "Min Value: -2,147,483,648\n",
      "Min Value: 2,147,483,647\n"
     ]
    }
   ],
   "source": [
    "int intergerNumber = -23;\n",
    "Console.WriteLine($\"Size Of: {sizeof(int)} byte(s)\");\n",
    "Console.WriteLine($\"Min Value: {int.MinValue:N0}\");\n",
    "Console.WriteLine($\"Min Value: {int.MaxValue:N0}\")"
   ]
  },
  {
   "cell_type": "markdown",
   "metadata": {},
   "source": [
    "**Float** is a single percision floating point number. In C#, the value is suffixed with a `F`."
   ]
  },
  {
   "cell_type": "code",
   "execution_count": 22,
   "metadata": {},
   "outputs": [
    {
     "name": "stdout",
     "output_type": "stream",
     "text": [
      "Size Of: 4 byte(s)\n",
      "Min Value: -340,282,346,638,528,859,811,704,183,484,516,925,440\n",
      "Min Value: 340,282,346,638,528,859,811,704,183,484,516,925,440\n"
     ]
    }
   ],
   "source": [
    "float realNumber = 2.3F;\n",
    "Console.WriteLine($\"Size Of: {sizeof(float)} byte(s)\");\n",
    "Console.WriteLine($\"Min Value: {float.MinValue:N0}\");\n",
    "Console.WriteLine($\"Min Value: {float.MaxValue:N0}\")"
   ]
  },
  {
   "cell_type": "markdown",
   "metadata": {},
   "source": [
    "**Double** is a double percision floating point."
   ]
  },
  {
   "cell_type": "code",
   "execution_count": 20,
   "metadata": {},
   "outputs": [
    {
     "name": "stdout",
     "output_type": "stream",
     "text": [
      "Size Of: 8 byte(s)\n",
      "Min Value: -179,769,313,486,231,570,814,527,423,731,704,356,798,070,567,525,844,996,598,917,476,803,157,260,780,028,538,760,589,558,632,766,878,171,540,458,953,514,382,464,234,321,326,889,464,182,768,467,546,703,537,516,986,049,910,576,551,282,076,245,490,090,389,328,944,075,868,508,455,133,942,304,583,236,903,222,948,165,808,559,332,123,348,274,797,826,204,144,723,168,738,177,180,919,299,881,250,404,026,184,124,858,368\n",
      "Min Value: 179,769,313,486,231,570,814,527,423,731,704,356,798,070,567,525,844,996,598,917,476,803,157,260,780,028,538,760,589,558,632,766,878,171,540,458,953,514,382,464,234,321,326,889,464,182,768,467,546,703,537,516,986,049,910,576,551,282,076,245,490,090,389,328,944,075,868,508,455,133,942,304,583,236,903,222,948,165,808,559,332,123,348,274,797,826,204,144,723,168,738,177,180,919,299,881,250,404,026,184,124,858,368\n"
     ]
    }
   ],
   "source": [
    "double anotherRealNumber = 2.3;\n",
    "Console.WriteLine($\"Size Of: {sizeof(double)} byte(s)\");\n",
    "Console.WriteLine($\"Min Value: {double.MinValue:N0}\");\n",
    "Console.WriteLine($\"Min Value: {double.MaxValue:N0}\")"
   ]
  },
  {
   "cell_type": "markdown",
   "metadata": {},
   "source": [
    "Numbers can be notated, to make reading easier, in decimal, binary or hexadecimal. Running the below will output `2000000`."
   ]
  },
  {
   "cell_type": "code",
   "execution_count": 26,
   "metadata": {},
   "outputs": [],
   "source": [
    "int decimalNotation = 2_000_000;\n",
    "int binaryNotation = 0b_0001_1110_1000_0100_1000_0000;    \n",
    "int hexadecimalNotation = 0x_001E_8480;"
   ]
  },
  {
   "cell_type": "markdown",
   "metadata": {},
   "source": [
    "Check that both hex and binary statements have the same value as the decimal notation."
   ]
  },
  {
   "cell_type": "code",
   "execution_count": 25,
   "metadata": {},
   "outputs": [
    {
     "name": "stdout",
     "output_type": "stream",
     "text": [
      "True\n",
      "True\n"
     ]
    }
   ],
   "source": [
    "Console.WriteLine($\"{decimalNotation == binaryNotation}\");\n",
    "Console.WriteLine($\"{decimalNotation == hexadecimalNotation}\");"
   ]
  },
  {
   "cell_type": "markdown",
   "metadata": {},
   "source": [
    "Double and Float values arn't percise enough to be used with anything that requires true percision. Running the below should return `0.1 + 0.2 equals 0.3`."
   ]
  },
  {
   "cell_type": "code",
   "execution_count": 27,
   "metadata": {},
   "outputs": [
    {
     "name": "stdout",
     "output_type": "stream",
     "text": [
      "Using doubles:\n",
      "0.1 + 0.2 does NOT equal 0.3\n"
     ]
    }
   ],
   "source": [
    "Console.WriteLine(\"Using doubles:\");\n",
    "\n",
    "double a = 0.1;\n",
    "double b = 0.2;\n",
    "\n",
    "if (a + b == 0.3)\n",
    "{\n",
    "    Console.WriteLine($\"{a} + {b} equals 0.3\");\n",
    "}\n",
    "else\n",
    "{\n",
    "    Console.WriteLine($\"{a} + {b} does NOT equal 0.3\");\n",
    "}"
   ]
  },
  {
   "cell_type": "markdown",
   "metadata": {},
   "source": [
    "But because of the way doubles are stored and rounding errors, this is infact false. https://ciechanow.ski/exposing-floating-point/ provides a good explanation on why this is. If true percision is required, decimals should be used."
   ]
  },
  {
   "cell_type": "markdown",
   "metadata": {},
   "source": [
    "**Decimal** has 28 to 29 digit percision. Unlike floats and doubles, the location of the decimal place is stored and then the value is converted into a natural number. Values must be suffixed with an `M`."
   ]
  },
  {
   "cell_type": "code",
   "execution_count": 30,
   "metadata": {},
   "outputs": [
    {
     "name": "stdout",
     "output_type": "stream",
     "text": [
      "Size Of: 16 byte(s)\n",
      "Min Value: -79,228,162,514,264,337,593,543,950,335\n",
      "Min Value: 79,228,162,514,264,337,593,543,950,335\n"
     ]
    }
   ],
   "source": [
    "decimal anotherRealNumber = 2.3M;\n",
    "Console.WriteLine($\"Size Of: {sizeof(decimal)} byte(s)\");\n",
    "Console.WriteLine($\"Min Value: {decimal.MinValue:N0}\");\n",
    "Console.WriteLine($\"Min Value: {decimal.MaxValue:N0}\");"
   ]
  },
  {
   "cell_type": "markdown",
   "metadata": {},
   "source": [
    "Running the same again, using decimals instead of doubles."
   ]
  },
  {
   "cell_type": "code",
   "execution_count": 32,
   "metadata": {},
   "outputs": [
    {
     "name": "stdout",
     "output_type": "stream",
     "text": [
      "Using decimals:\n",
      "0.1 + 0.2 equals 0.3\n"
     ]
    }
   ],
   "source": [
    "Console.WriteLine(\"Using decimals:\");\n",
    "\n",
    "decimal c = 0.1M;\n",
    "decimal d = 0.2M;\n",
    "\n",
    "if (c + d == 0.3M)\n",
    "{\n",
    "    Console.WriteLine($\"{c} + {d} equals 0.3\");\n",
    "}\n",
    "else\n",
    "{\n",
    "    Console.WriteLine($\"{c} + {d} does NOT equal 0.3\");\n",
    "}    "
   ]
  },
  {
   "cell_type": "markdown",
   "metadata": {},
   "source": [
    "Below is a full list of types, sizes and min/max values."
   ]
  },
  {
   "cell_type": "code",
   "execution_count": 33,
   "metadata": {},
   "outputs": [
    {
     "name": "stdout",
     "output_type": "stream",
     "text": [
      "--------------------------------------------------------------------------\n",
      "Type    Byte(s) of memory               Min                            Max\n",
      "--------------------------------------------------------------------------\n",
      "sbyte   1                              -128                            127\n",
      "byte    1                                 0                            255\n",
      "short   2                            -32768                          32767\n",
      "ushort  2                                 0                          65535\n",
      "int     4                       -2147483648                     2147483647\n",
      "uint    4                                 0                     4294967295\n",
      "long    8              -9223372036854775808            9223372036854775807\n",
      "ulong   8                                 0           18446744073709551615\n",
      "float   4                    -3.4028235E+38                  3.4028235E+38\n",
      "double  8          -1.7976931348623157E+308        1.7976931348623157E+308\n",
      "decimal 16   -79228162514264337593543950335  79228162514264337593543950335\n"
     ]
    }
   ],
   "source": [
    "using static System.Console;\n",
    "\n",
    "WriteLine(\"--------------------------------------------------------------------------\");\n",
    "WriteLine(\"Type    Byte(s) of memory               Min                            Max\");\n",
    "WriteLine(\"--------------------------------------------------------------------------\");\n",
    "WriteLine($\"sbyte   {sizeof(sbyte), -4} {sbyte.MinValue, 30} {sbyte.MaxValue, 30}\");\n",
    "WriteLine($\"byte    {sizeof(byte), -4} {byte.MinValue, 30} {byte.MaxValue, 30}\");\n",
    "WriteLine($\"short   {sizeof(short), -4} {short.MinValue, 30} {short.MaxValue, 30}\");\n",
    "WriteLine($\"ushort  {sizeof(ushort), -4} {ushort.MinValue, 30} {ushort.MaxValue, 30}\");\n",
    "WriteLine($\"int     {sizeof(int), -4} {int.MinValue, 30} {int.MaxValue, 30}\");\n",
    "WriteLine($\"uint    {sizeof(uint), -4} {uint.MinValue, 30} {uint.MaxValue, 30}\");\n",
    "WriteLine($\"long    {sizeof(long), -4} {long.MinValue, 30} {long.MaxValue, 30}\");\n",
    "WriteLine($\"ulong   {sizeof(ulong), -4} {ulong.MinValue, 30} {ulong.MaxValue, 30}\");\n",
    "WriteLine($\"float   {sizeof(float), -4} {float.MinValue, 30} {float.MaxValue, 30}\");\n",
    "WriteLine($\"double  {sizeof(double), -4} {double.MinValue, 30} {double.MaxValue, 30}\");\n",
    "WriteLine($\"decimal {sizeof(decimal), -4} {decimal.MinValue, 30} {decimal.MaxValue, 30}\");\n"
   ]
  },
  {
   "cell_type": "markdown",
   "metadata": {},
   "source": [
    "For more information on types: https://docs.microsoft.com/en-us/dotnet/csharp/tour-of-csharp/types-and-variables."
   ]
  }
 ],
 "metadata": {
  "kernelspec": {
   "display_name": ".NET (C#)",
   "language": "C#",
   "name": ".net-csharp"
  },
  "language_info": {
   "file_extension": ".cs",
   "mimetype": "text/x-csharp",
   "name": "C#",
   "pygments_lexer": "csharp",
   "version": "8.0"
  }
 },
 "nbformat": 4,
 "nbformat_minor": 4
}
