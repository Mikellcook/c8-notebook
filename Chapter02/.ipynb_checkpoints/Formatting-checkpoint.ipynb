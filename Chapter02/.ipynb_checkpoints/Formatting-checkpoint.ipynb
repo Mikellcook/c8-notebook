{
 "cells": [
  {
   "cell_type": "markdown",
   "metadata": {},
   "source": [
    "# Formatting"
   ]
  },
  {
   "cell_type": "markdown",
   "metadata": {},
   "source": [
    "Types can be statically imported if reducing the amount of code that needs to be typed when referencing a type that is used often."
   ]
  },
  {
   "cell_type": "code",
   "execution_count": 4,
   "metadata": {},
   "outputs": [],
   "source": [
    "using static System.Console;"
   ]
  },
  {
   "cell_type": "markdown",
   "metadata": {},
   "source": [
    "There are multiple ways to format output. The below uses `format` and `args` within the `WriteLine` string."
   ]
  },
  {
   "cell_type": "code",
   "execution_count": 1,
   "metadata": {},
   "outputs": [
    {
     "name": "stdout",
     "output_type": "stream",
     "text": [
      "12 apples costs $4.20\n"
     ]
    }
   ],
   "source": [
    "using static System.Console;\n",
    "\n",
    "int numberOfApples = 12;\n",
    "decimal pricePerApple = 0.35M;\n",
    "\n",
    "WriteLine(\n",
    "    format: \"{0} apples costs {1:C}\",\n",
    "    arg0: numberOfApples,\n",
    "    arg1: pricePerApple * numberOfApples);\n",
    "\n",
    "string formatted = string.Format (\n",
    "    format: \"{0} apples costs {1:C}\",\n",
    "    arg0: numberOfApples,\n",
    "    arg1: pricePerApple * numberOfApples);"
   ]
  },
  {
   "cell_type": "markdown",
   "metadata": {},
   "source": [
    "Manipulation, such as multiplying two variables can also be achieved this way. So `{1:C}` will be replaced with `arg1` and formatted into a currency specified by the environment the code is ran on. For instance, if the code is ran on a UK Computer, the value will be prefixed with `£`.\n",
    "\n",
    "More information of composite formatting can be found at: https://docs.microsoft.com/en-us/dotnet/standard/base-types/composite-formatting."
   ]
  },
  {
   "cell_type": "markdown",
   "metadata": {},
   "source": [
    "String interpolation can also be used to format a string. Manipulation and composite formatting can also be achived inline."
   ]
  },
  {
   "cell_type": "code",
   "execution_count": 6,
   "metadata": {},
   "outputs": [
    {
     "name": "stdout",
     "output_type": "stream",
     "text": [
      "12 apples costs $4.20\n"
     ]
    }
   ],
   "source": [
    "WriteLine($\"{numberOfApples} apples costs {pricePerApple * numberOfApples:C}\");"
   ]
  },
  {
   "cell_type": "markdown",
   "metadata": {},
   "source": [
    "Optional alignment can be provided inline. If the value of alignment is less than the length of the formatted string, alignment is ignored and the length of the formatted string is used as the field width. The formatted data in the field is right-aligned if alignment is positive and left-aligned if alignment is negative. If padding is necessary, white space is used. The comma is required if alignment is specified.\n",
    "Also covered in: https://docs.microsoft.com/en-us/dotnet/standard/base-types/composite-formatting."
   ]
  },
  {
   "cell_type": "code",
   "execution_count": 7,
   "metadata": {},
   "outputs": [
    {
     "name": "stdout",
     "output_type": "stream",
     "text": [
      "Name      Count\n",
      "Apples    1,234\n",
      "Bananas  56,789\n"
     ]
    }
   ],
   "source": [
    "string appleText = \"Apples\";\n",
    "int applesCount = 1234;\n",
    "string bananasText = \"Bananas\";\n",
    "int bananasCount = 56789;\n",
    "\n",
    "WriteLine(\n",
    "    format: \"{0, -8} {1,6:N0}\",\n",
    "    arg0: \"Name\",\n",
    "    arg1: \"Count\"\n",
    ");\n",
    "\n",
    " WriteLine(\n",
    "    format: \"{0, -8} {1,6:N0}\",\n",
    "    arg0: appleText,\n",
    "    arg1: applesCount\n",
    ");\n",
    "\n",
    "WriteLine(\n",
    "    format: \"{0, -8} {1,6:N0}\",\n",
    "    arg0: bananasText,\n",
    "    arg1: bananasCount\n",
    ");     "
   ]
  },
  {
   "cell_type": "markdown",
   "metadata": {},
   "source": [
    "To read input from the console, `ReadLine` is used. Anything inputed by the user is treated as a string. "
   ]
  },
  {
   "cell_type": "code",
   "execution_count": 12,
   "metadata": {},
   "outputs": [
    {
     "ename": "Unhandled exception",
     "evalue": "(7,7): error CS0029: Cannot implicitly convert type 'int' to 'string'",
     "output_type": "error",
     "traceback": [
      "(7,7): error CS0029: Cannot implicitly convert type 'int' to 'string'"
     ]
    }
   ],
   "source": [
    "Write(\"Type your first name and press ENTER: \");\n",
    "string firstName = ReadLine();\n",
    "firstName = \"Mikell\";\n",
    "\n",
    "Write(\"Type your age and press ENTER: \");\n",
    "string age = ReadLine();\n",
    "age = \"32\";\n",
    "\n",
    "WriteLine($\"Hello {firstName}, you look good for {age}.\");"
   ]
  },
  {
   "cell_type": "code",
   "execution_count": null,
   "metadata": {},
   "outputs": [],
   "source": []
  }
 ],
 "metadata": {
  "kernelspec": {
   "display_name": ".NET (C#)",
   "language": "C#",
   "name": ".net-csharp"
  },
  "language_info": {
   "file_extension": ".cs",
   "mimetype": "text/x-csharp",
   "name": "C#",
   "pygments_lexer": "csharp",
   "version": "8.0"
  }
 },
 "nbformat": 4,
 "nbformat_minor": 4
}
