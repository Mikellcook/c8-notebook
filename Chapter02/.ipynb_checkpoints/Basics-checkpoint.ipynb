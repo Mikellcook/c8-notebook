{
 "cells": [
  {
   "cell_type": "markdown",
   "metadata": {},
   "source": [
    "# Basics"
   ]
  },
  {
   "cell_type": "markdown",
   "metadata": {},
   "source": [
    "The code below runs through the loaded Assemblies, identifies how many **Types** and how many **Methods** each assemblies has. Any additional assemblies will be counted. When the below is ran, it also loads the dotnet Interactive assemblies.\n",
    "\n"
   ]
  },
  {
   "cell_type": "code",
   "execution_count": null,
   "metadata": {},
   "outputs": [],
   "source": [
    "System.Data.DataSet ds;\n",
    "System.Net.Http.HttpClient client;\n",
    "\n",
    "foreach (var r in Assembly.GetEntryAssembly()\n",
    "    .GetReferencedAssemblies()) {\n",
    "\n",
    "    // load the assembly so we can read its details\n",
    "    var a = Assembly.Load(new AssemblyName(r.FullName));\n",
    "\n",
    "    // declare a variable to count the number of methods\n",
    "    int methodCount = 0;\n",
    "\n",
    "    // loop through all the types in the assembly\n",
    "    foreach (var t in a.DefinedTypes)\n",
    "    {\n",
    "        methodCount += t.GetMethods().Count();\n",
    "\n",
    "    }\n",
    "\n",
    "    // output the count of types and their methods\n",
    "    Console.WriteLine(\n",
    "        \"{0:N0} types with {1:N0} methods in {2} assembly.\",\n",
    "        arg0: a.DefinedTypes.Count(),\n",
    "        arg1: methodCount,\n",
    "        arg2: r.Name\n",
    "    );\n",
    "}"
   ]
  },
  {
   "cell_type": "markdown",
   "metadata": {},
   "source": [
    "Using var implicitly sets the type. Best uses in situations where it's obvious what the tpe is. For instance, it's obviouse that `heightInMeters` is a double. More information can be found at: https://docs.microsoft.com/en-us/dotnet/csharp/programming-guide/classes-and-structs/implicitly-typed-local-variables.\n"
   ]
  },
  {
   "cell_type": "code",
   "execution_count": 19,
   "metadata": {},
   "outputs": [
    {
     "name": "stdout",
     "output_type": "stream",
     "text": [
      "The variable heightInMeters has the value 1.88.\n"
     ]
    }
   ],
   "source": [
    "var heightInMeters = 1.88;\n",
    "Console.WriteLine($\"The variable {nameof(heightInMeters)} has the value {heightInMeters}.\");"
   ]
  },
  {
   "cell_type": "markdown",
   "metadata": {},
   "source": [
    "Using string interpolation with the `$` sign allows variable to be reference or accessed using `{}`. More information can be found at: https://docs.microsoft.com/en-us/dotnet/csharp/language-reference/tokens/interpolated.\n",
    "\n",
    "`nameof` will provide the name of the variable being called."
   ]
  }
 ],
 "metadata": {
  "kernelspec": {
   "display_name": ".NET (C#)",
   "language": "C#",
   "name": ".net-csharp"
  },
  "language_info": {
   "file_extension": ".cs",
   "mimetype": "text/x-csharp",
   "name": "C#",
   "pygments_lexer": "csharp",
   "version": "8.0"
  }
 },
 "nbformat": 4,
 "nbformat_minor": 4
}
